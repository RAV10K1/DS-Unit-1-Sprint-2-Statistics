{
  "nbformat": 4,
  "nbformat_minor": 0,
  "metadata": {
    "colab": {
      "name": "LS_DS_123_Introduction_to_Bayesian_Inference_Assignment.ipynb",
      "provenance": [],
      "collapsed_sections": [],
      "include_colab_link": true
    },
    "kernelspec": {
      "name": "python3",
      "display_name": "Python 3"
    }
  },
  "cells": [
    {
      "cell_type": "markdown",
      "metadata": {
        "id": "view-in-github",
        "colab_type": "text"
      },
      "source": [
        "<a href=\"https://colab.research.google.com/github/RAV10K1/DS-Unit-1-Sprint-2-Statistics/blob/master/LS_DS_123_Introduction_to_Bayesian_Inference_Assignment.ipynb\" target=\"_parent\"><img src=\"https://colab.research.google.com/assets/colab-badge.svg\" alt=\"Open In Colab\"/></a>"
      ]
    },
    {
      "cell_type": "markdown",
      "metadata": {
        "id": "H7OLbevlbd_Z",
        "colab_type": "text"
      },
      "source": [
        "# Lambda School Data Science Module 123\n",
        "\n",
        "## Introduction to Bayesian Inference\n",
        "\n",
        "\n"
      ]
    },
    {
      "cell_type": "markdown",
      "metadata": {
        "id": "P-DzzRk5bf0z",
        "colab_type": "text"
      },
      "source": [
        "## Assignment - Code it up!\n",
        "\n",
        "We used pure math to apply Bayes Theorem to drug tests. Now write Python code to reproduce the results! This is purposefully open ended - you'll have to think about how you should represent probabilities and events. You can and should look things up.\n",
        "\n",
        "Specific goals/targets:\n",
        "\n",
        "### 1) Write a function \n",
        "\n",
        "`def prob_drunk_given_positive(prob_drunk_prior, false_positive_rate):` \n",
        "\n",
        "You should only truly need these two values in order to apply Bayes Theorem. In this example, imagine that individuals are taking a breathalyzer test with an 8% false positive rate, a 100% true positive rate, and that our prior belief about drunk driving in the population is 1/1000. \n",
        " - What is the probability that a person is drunk after one positive breathalyzer test?\n",
        " - What is the probability that a person is drunk after two positive breathalyzer tests?\n",
        " - How many positive breathalyzer tests are needed in order to have a probability that's greater than 95% that a person is drunk beyond the legal limit?\n",
        "\n",
        "### 2) Explore `scipy.stats.bayes_mvs`  \n",
        "Read its documentation, and experiment with it on data you've tested in other ways earlier this week.\n",
        " - Create a visualization comparing the results of a Bayesian approach to a traditional/frequentist approach. (with a large sample size they should look close to identical, however, take this opportunity to practice visualizing condfidence intervals in general. The following are some potential ways that you could visualize confidence intervals on your graph:\n",
        "  - [Matplotlib Error Bars](https://matplotlib.org/3.1.1/api/_as_gen/matplotlib.pyplot.errorbar.html)\n",
        "  - [Seaborn barplot with error bars](https://seaborn.pydata.org/generated/seaborn.barplot.html)\n",
        "  - [Vertical ines to show bounds of confidence interval](https://www.simplypsychology.org/confidence-interval.jpg)\n",
        "  - [Confidence Intervals on Box Plots](https://matplotlib.org/3.1.1/api/_as_gen/matplotlib.axes.Axes.boxplot.html)\n",
        "\n",
        "### 3) In your own words, summarize the difference between Bayesian and Frequentist statistics\n",
        "\n",
        "If you're unsure where to start, check out [this blog post of Bayes theorem with Python](https://dataconomy.com/2015/02/introduction-to-bayes-theorem-with-python/).\n",
        "\n"
      ]
    },
    {
      "cell_type": "markdown",
      "metadata": {
        "id": "nx5KOBKRg3tf",
        "colab_type": "text"
      },
      "source": [
        "# 1) Bayesian Inference"
      ]
    },
    {
      "cell_type": "code",
      "metadata": {
        "id": "xSbYGvScg21_",
        "colab_type": "code",
        "colab": {}
      },
      "source": [
        "# Creating function to calculate Bayesian inference\n",
        "def prob_drunk_given_pos(prob_drunk_prior, false_pos_rate, true_pos_rate, num_of_tests):\n",
        "  posterior_prob = prob_drunk_prior\n",
        "  for test in range(0, num_of_tests):\n",
        "    p_drunk = posterior_prob\n",
        "    p_not_drunk = (1-p_drunk)\n",
        "    p_pos_given_drunk = true_pos_rate\n",
        "    p_pos_given_not_drunk = false_pos_rate \n",
        "    posterior_prob = (p_pos_given_drunk*p_drunk)/((p_pos_given_drunk*p_drunk) + (p_pos_given_not_drunk*p_not_drunk))\n",
        "  return posterior_prob  "
      ],
      "execution_count": 0,
      "outputs": []
    },
    {
      "cell_type": "markdown",
      "metadata": {
        "id": "CveC-Yazmsbu",
        "colab_type": "text"
      },
      "source": [
        "### Probability that a person is drunk after one positive test:"
      ]
    },
    {
      "cell_type": "code",
      "metadata": {
        "id": "Uh7ubLdCmrDg",
        "colab_type": "code",
        "colab": {
          "base_uri": "https://localhost:8080/",
          "height": 35
        },
        "outputId": "b47c8fad-df88-4eba-afd3-b2e543418053"
      },
      "source": [
        "print(f'Probability that the person is drunk after one test: {prob_drunk_given_pos(0.001, 0.08, 1, 1)*100}%')"
      ],
      "execution_count": 5,
      "outputs": [
        {
          "output_type": "stream",
          "text": [
            "Probability that the person is drunk after one test: 1.2357884330202669%\n"
          ],
          "name": "stdout"
        }
      ]
    },
    {
      "cell_type": "markdown",
      "metadata": {
        "id": "S_ll4JQHnysT",
        "colab_type": "text"
      },
      "source": [
        "### Probability that a person is drunk after two tests:"
      ]
    },
    {
      "cell_type": "code",
      "metadata": {
        "id": "sh6Qs4yVn7YL",
        "colab_type": "code",
        "colab": {
          "base_uri": "https://localhost:8080/",
          "height": 35
        },
        "outputId": "b71c8eea-f32c-49e6-d8bb-931365bb5430"
      },
      "source": [
        "print(f'Probability that the person is drunk after two tests: {prob_drunk_given_pos(0.001, 0.08, 1, 2)*100}%')"
      ],
      "execution_count": 6,
      "outputs": [
        {
          "output_type": "stream",
          "text": [
            "Probability that the person is drunk after two tests: 13.525210993291495%\n"
          ],
          "name": "stdout"
        }
      ]
    },
    {
      "cell_type": "markdown",
      "metadata": {
        "id": "1HNY21DCoLwR",
        "colab_type": "text"
      },
      "source": [
        "### No. of breathalyzer tests needed to determine minimum probability of 95% that a person is drunk:"
      ]
    },
    {
      "cell_type": "code",
      "metadata": {
        "id": "sNWEVKI7oeBe",
        "colab_type": "code",
        "colab": {
          "base_uri": "https://localhost:8080/",
          "height": 35
        },
        "outputId": "9c16ace4-9edc-40c5-f22a-92828172294e"
      },
      "source": [
        "# 4 tests are required to determine drunkeness with 95% probability.\n",
        "prob_drunk_given_pos(0.001, 0.08,1,4)*100"
      ],
      "execution_count": 8,
      "outputs": [
        {
          "output_type": "execute_result",
          "data": {
            "text/plain": [
              "96.06895076105054"
            ]
          },
          "metadata": {
            "tags": []
          },
          "execution_count": 8
        }
      ]
    },
    {
      "cell_type": "markdown",
      "metadata": {
        "id": "w9JdGsHZ-WTB",
        "colab_type": "text"
      },
      "source": [
        "# 2) Exploring scipy.stats.bayes_mvs (Optional)"
      ]
    },
    {
      "cell_type": "code",
      "metadata": {
        "id": "jtd9r-QUo05c",
        "colab_type": "code",
        "colab": {}
      },
      "source": [
        ""
      ],
      "execution_count": 0,
      "outputs": []
    },
    {
      "cell_type": "code",
      "metadata": {
        "id": "2wpqKfVn-h_Q",
        "colab_type": "code",
        "colab": {}
      },
      "source": [
        ""
      ],
      "execution_count": 0,
      "outputs": []
    },
    {
      "cell_type": "markdown",
      "metadata": {
        "id": "pRp1L2LzAkSy",
        "colab_type": "text"
      },
      "source": [
        "# 3) Difference Between Bayesian and Frequentist Statistics"
      ]
    },
    {
      "cell_type": "markdown",
      "metadata": {
        "id": "2M3RpHe6Lg7w",
        "colab_type": "text"
      },
      "source": [
        "* Bayesan statistics is an approach that applies probabilities to statistical questions.\n",
        "* Whereas frequentist statistics approaches problems by trying to eliminate uncertainty by providing estimates, Bayesian statistics instead preserves uncertainty but updates prior beliefs based on new evidence.\n",
        "* The following example on coinflips illustrates these two approaches. Firstly, frequentist statistics is used to calculate the confidence intervals of the coinflips. Then the same is calculated using Bayesian inference.\n"
      ]
    },
    {
      "cell_type": "code",
      "metadata": {
        "id": "u1OvkyokAtXJ",
        "colab_type": "code",
        "colab": {}
      },
      "source": [
        "# Importing libraries\n",
        "import random\n",
        "import scipy.stats as stats\n",
        "import numpy as np"
      ],
      "execution_count": 0,
      "outputs": []
    },
    {
      "cell_type": "code",
      "metadata": {
        "id": "h1hs6B6yR5-C",
        "colab_type": "code",
        "colab": {}
      },
      "source": [
        "# Setting random seed\n",
        "np.random.seed(seed=42)"
      ],
      "execution_count": 0,
      "outputs": []
    },
    {
      "cell_type": "code",
      "metadata": {
        "id": "fxC5yrDdR6II",
        "colab_type": "code",
        "colab": {}
      },
      "source": [
        "# Generating event space for 10,000 coinflips\n",
        "coin_flips = np.random.binomial(n=1, p=0.5, size=10000)"
      ],
      "execution_count": 0,
      "outputs": []
    },
    {
      "cell_type": "code",
      "metadata": {
        "id": "tj-T3PkcS6wy",
        "colab_type": "code",
        "colab": {
          "base_uri": "https://localhost:8080/",
          "height": 35
        },
        "outputId": "f49cde8e-80d7-4255-d72e-904501bc140f"
      },
      "source": [
        "# Calculating sample mean\n",
        "np.mean(coin_flips)"
      ],
      "execution_count": 19,
      "outputs": [
        {
          "output_type": "execute_result",
          "data": {
            "text/plain": [
              "0.4938"
            ]
          },
          "metadata": {
            "tags": []
          },
          "execution_count": 19
        }
      ]
    },
    {
      "cell_type": "markdown",
      "metadata": {
        "id": "R0GnLP-_WGX-",
        "colab_type": "text"
      },
      "source": [
        "### Using Frequentist Approach"
      ]
    },
    {
      "cell_type": "code",
      "metadata": {
        "id": "NC5fp0qfS67r",
        "colab_type": "code",
        "colab": {
          "base_uri": "https://localhost:8080/",
          "height": 35
        },
        "outputId": "0116e9cf-5cc3-42df-cd8d-711226e1a338"
      },
      "source": [
        "# Calculating confidence intervals using scipy.stats function at 95% confidence level (alpha).\n",
        "CI_freq = stats.t.interval(0.95, len(coin_flips), \n",
        "                           loc=np.mean(coin_flips), \n",
        "                           scale=stats.sem(coin_flips))\n",
        "CI_freq"
      ],
      "execution_count": 21,
      "outputs": [
        {
          "output_type": "execute_result",
          "data": {
            "text/plain": [
              "(0.48399925728148285, 0.5036007427185172)"
            ]
          },
          "metadata": {
            "tags": []
          },
          "execution_count": 21
        }
      ]
    },
    {
      "cell_type": "markdown",
      "metadata": {
        "id": "TOJ9TDjIUMJH",
        "colab_type": "text"
      },
      "source": [
        "* This shows that given a sample mean of 0.49, we can tell with 95% confidence that the population mean falls between 0.48 and 0.50  "
      ]
    },
    {
      "cell_type": "markdown",
      "metadata": {
        "id": "aJB_5ciGWOPF",
        "colab_type": "text"
      },
      "source": [
        "### Using Bayesian Approach"
      ]
    },
    {
      "cell_type": "code",
      "metadata": {
        "id": "r7Ytu59uUmGR",
        "colab_type": "code",
        "colab": {
          "base_uri": "https://localhost:8080/",
          "height": 35
        },
        "outputId": "3bdf9b2a-a1ab-4570-8c0a-007c73bd356c"
      },
      "source": [
        "# Calculating the confidence intervals using Bayesian inference at the same confidence level of 95%.\n",
        "CI_bayes = stats.bayes_mvs(coin_flips, alpha=0.95)\n",
        "CI_bayes[0][1]"
      ],
      "execution_count": 41,
      "outputs": [
        {
          "output_type": "execute_result",
          "data": {
            "text/plain": [
              "(0.4840009335164187, 0.5035990664835813)"
            ]
          },
          "metadata": {
            "tags": []
          },
          "execution_count": 41
        }
      ]
    },
    {
      "cell_type": "code",
      "metadata": {
        "id": "0fO1Y61uUmA1",
        "colab_type": "code",
        "colab": {
          "base_uri": "https://localhost:8080/",
          "height": 70
        },
        "outputId": "e9bbd21a-d4c0-4fd3-8e22-9b51608b91b1"
      },
      "source": [
        "# Checking if both values are exactly equal.\n",
        "print(f'Confidence Intervals Frequentist : {CI_freq}')\n",
        "print(f'Confidence Intervals Bayesian : {CI_bayes[0]}')\n",
        "CI_freq == CI_bayes[0]"
      ],
      "execution_count": 29,
      "outputs": [
        {
          "output_type": "stream",
          "text": [
            "Confidence Intervals Frequentist : (0.48399925728148285, 0.5036007427185172)\n",
            "Confidence Intervals Bayesian : Mean(statistic=0.4938, minmax=(0.4840009335164187, 0.5035990664835813))\n"
          ],
          "name": "stdout"
        },
        {
          "output_type": "execute_result",
          "data": {
            "text/plain": [
              "False"
            ]
          },
          "metadata": {
            "tags": []
          },
          "execution_count": 29
        }
      ]
    },
    {
      "cell_type": "markdown",
      "metadata": {
        "id": "OmGtB64wXVsp",
        "colab_type": "text"
      },
      "source": [
        "* Although both values are similar, it can be seen that they begin to diverge after the second decimal but tend to be approximately close. This is illustrated in the following KDE plot. "
      ]
    },
    {
      "cell_type": "code",
      "metadata": {
        "id": "DrZ9Vbm7XUFr",
        "colab_type": "code",
        "colab": {
          "base_uri": "https://localhost:8080/",
          "height": 269
        },
        "outputId": "4aa3e229-9027-4014-dc2e-b67af5e58267"
      },
      "source": [
        "# Plotting the Kernel Density Estimates for Both Approaches\n",
        "# Frequentist approach depicted in red\n",
        "# Bayesian approach depicted in blue\n",
        "# The sample mean is depicted by a black vertical line.\n",
        "import seaborn as sns\n",
        "import matplotlib.pyplot as plt\n",
        "\n",
        "sns.kdeplot(coin_flips)\n",
        "plt.xlim(0.4830, 0.5037)\n",
        "plt.axvline(x=CI_freq[0], color='red')\n",
        "plt.axvline(x=CI_freq[1], color='red')\n",
        "plt.axvline(x=CI_bayes[0][1][0], color='blue')\n",
        "plt.axvline(x=CI_bayes[0][1][1], color='blue')\n",
        "plt.axvline(np.mean(coin_flips), color='k');"
      ],
      "execution_count": 56,
      "outputs": [
        {
          "output_type": "display_data",
          "data": {
            "image/png": "[encoded data removed]",
            "text/plain": [
              "<Figure size 432x288 with 1 Axes>"
            ]
          },
          "metadata": {
            "tags": []
          }
        }
      ]
    },
    {
      "cell_type": "code",
      "metadata": {
        "id": "EG5Uh_RCXUbl",
        "colab_type": "code",
        "colab": {}
      },
      "source": [
        ""
      ],
      "execution_count": 0,
      "outputs": []
    },
    {
      "cell_type": "markdown",
      "metadata": {
        "id": "uWgWjp3PQ3Sq",
        "colab_type": "text"
      },
      "source": [
        "## Resources"
      ]
    },
    {
      "cell_type": "markdown",
      "metadata": {
        "id": "QRgHqmYIQ9qn",
        "colab_type": "text"
      },
      "source": [
        "- [Worked example of Bayes rule calculation](https://en.wikipedia.org/wiki/Bayes'_theorem#Examples) (helpful as it fully breaks out the denominator)\n",
        "- [Source code for mvsdist in scipy](https://github.com/scipy/scipy/blob/90534919e139d2a81c24bf08341734ff41a3db12/scipy/stats/morestats.py#L139)"
      ]
    },
    {
      "cell_type": "markdown",
      "metadata": {
        "id": "GP7Jv1XvwtkX",
        "colab_type": "text"
      },
      "source": [
        "## Stretch Goals:\n",
        "\n",
        "- Go back and study the content from Modules 1 & 2 to make sure that you're really comfortable with them.\n",
        "- Apply a Bayesian technique to a problem you previously worked (in an assignment or project work) on from a frequentist (standard) perspective\n",
        "- Check out [PyMC3](https://docs.pymc.io/) (note this goes beyond hypothesis tests into modeling) - read the guides and work through some examples\n",
        "- Take PyMC3 further - see if you can build something with it!"
      ]
    },
    {
      "cell_type": "code",
      "metadata": {
        "id": "iDi0eFr1x-v_",
        "colab_type": "code",
        "colab": {}
      },
      "source": [
        ""
      ],
      "execution_count": 0,
      "outputs": []
    },
    {
      "cell_type": "code",
      "metadata": {
        "id": "XFnGf7ayJpOK",
        "colab_type": "code",
        "colab": {}
      },
      "source": [
        ""
      ],
      "execution_count": 0,
      "outputs": []
    },
    {
      "cell_type": "code",
      "metadata": {
        "id": "U8gUktgjJpnP",
        "colab_type": "code",
        "colab": {}
      },
      "source": [
        ""
      ],
      "execution_count": 0,
      "outputs": []
    }
  ]
}